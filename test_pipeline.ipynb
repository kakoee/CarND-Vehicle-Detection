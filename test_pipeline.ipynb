{
 "cells": [
  {
   "cell_type": "code",
   "execution_count": 1,
   "metadata": {
    "scrolled": true
   },
   "outputs": [
    {
     "name": "stdout",
     "output_type": "stream",
     "text": [
      "loading SVM model and standardScaler...\n",
      "load done\n",
      "[MoviePy] >>>> Building video project_video_vehicle_det.mp4\n",
      "[MoviePy] Writing video project_video_vehicle_det.mp4\n"
     ]
    },
    {
     "name": "stderr",
     "output_type": "stream",
     "text": [
      "100%|█████████████████████████████████████████████████████████████████████████████▉| 1260/1261 [57:12<00:03,  3.40s/it]\n"
     ]
    },
    {
     "name": "stdout",
     "output_type": "stream",
     "text": [
      "[MoviePy] Done.\n",
      "[MoviePy] >>>> Video ready: project_video_vehicle_det.mp4 \n",
      "\n"
     ]
    }
   ],
   "source": [
    "run CarND_Vehicle_Detection.py"
   ]
  },
  {
   "cell_type": "code",
   "execution_count": null,
   "metadata": {
    "collapsed": true
   },
   "outputs": [],
   "source": []
  },
  {
   "cell_type": "code",
   "execution_count": null,
   "metadata": {},
   "outputs": [],
   "source": [
    " %matplotlib inline\n",
    "\n",
    "    \n",
    "ystart = y_start_stop[0]\n",
    "ystop = y_start_stop[1]\n",
    "scales=[1,1.5,2]\n",
    "  \n",
    "\n",
    "first_frame=1  \n",
    "heat = {}\n",
    "heat_threshold=6\n",
    "\n",
    "def process_image_2(myimg):\n",
    "\n",
    "    draw_image = np.copy(myimg)\n",
    "    windows = slide_window(myimg, x_start_stop=[None, None], y_start_stop=y_start_stop, \n",
    "                    xy_window=(96, 96), xy_overlap=(0.7, 0.7))\n",
    "\n",
    "    hot_windows = search_windows(myimg, windows, svc, X_scaler, color_space=color_space, \n",
    "                        spatial_size=spatial_size, hist_bins=hist_bins, \n",
    "                        orient=orient, pix_per_cell=pix_per_cell, \n",
    "                        cell_per_block=cell_per_block, \n",
    "                        hog_channel=hog_channel, spatial_feat=spatial_feat, \n",
    "                        hist_feat=hist_feat, hog_feat=hog_feat)                       \n",
    "\n",
    "    window_img = draw_boxes(draw_image, hot_windows, color=(0, 0, 255), thick=6)                    \n",
    "    return window_img\n",
    "\n",
    "    \n",
    "def process_frame_1(myimg):\n",
    "\n",
    "    draw_image = np.copy(myimg)\n",
    "    windows = slide_window(myimg, x_start_stop=[None, None], y_start_stop=y_start_stop, \n",
    "                    xy_window=(96, 96), xy_overlap=(0.5, 0.5))\n",
    "\n",
    "    hot_windows = search_windows(myimg, windows, svc, X_scaler, color_space=color_space, \n",
    "                        spatial_size=spatial_size, hist_bins=hist_bins, \n",
    "                        orient=orient, pix_per_cell=pix_per_cell, \n",
    "                        cell_per_block=cell_per_block, \n",
    "                        hog_channel=hog_channel, spatial_feat=spatial_feat, \n",
    "                        hist_feat=hist_feat, hog_feat=hog_feat)                       \n",
    "\n",
    "    window_img = draw_boxes(draw_image, hot_windows, color=(0, 0, 255), thick=6)                    \n",
    "    return window_img\n",
    "\n",
    "def process_frame_2(myimg):\n",
    "    global first_frame\n",
    "    global heat\n",
    "    if(True or first_frame==1):\n",
    "        img_tosearch = myimg[ystart:ystop,:,:]\n",
    "        heat = np.zeros_like(img_tosearch[:,:,0]).astype(np.float)\n",
    "\n",
    "\n",
    "    out_img = find_cars(myimg, color_space, ystart, ystop, xstart,scales, svc, X_scaler, orient, pix_per_cell, cell_per_block, spatial_size, hist_bins,heat_threshold,heat)                      \n",
    "\n",
    "    first_frame=0\n",
    "    return out_img\n",
    "\n",
    "    \n",
    "    \n",
    "    \n",
    "image = mpimg.imread('test_images/test6.jpg')\n",
    "\n",
    "res_image= process_image_2(image)\n",
    "\n",
    "\n",
    "#image = image.astype(np.float32)/255\n",
    "\n",
    "\n",
    "plt.imshow(res_image)"
   ]
  },
  {
   "cell_type": "code",
   "execution_count": null,
   "metadata": {
    "collapsed": true
   },
   "outputs": [],
   "source": [
    "\n",
    "x_png=cv2.imread(\"test_color.png\")\n",
    "print(\"png\",np.min(x_png),np.max(x_png))\n",
    "hsv_png = cv2.cvtColor(x_png, cv2.COLOR_BGR2HSV)\n",
    "print(\"png_cv2\",np.min(hsv_png),np.max(hsv_png))\n",
    "\n",
    "jpg = cv2.imread('test_color.jpg')\n",
    "print(\"jpg\",np.min(jpg),np.max(jpg))\n",
    "hsv_jpg = cv2.cvtColor(jpg, cv2.COLOR_BGR2HSV)\n",
    "print(\"jpg_cv2\",np.min(hsv_jpg),np.max(hsv_jpg))\n",
    "\n"
   ]
  },
  {
   "cell_type": "code",
   "execution_count": null,
   "metadata": {
    "collapsed": true
   },
   "outputs": [],
   "source": [
    "debug_read_video=1\n",
    "from moviepy.editor import VideoFileClip\n",
    "from IPython.display import HTML\n",
    "video_name='test_video'\n",
    "if(debug_read_video==1):\n",
    "\twhite_output = video_name+'_vehicle_det.mp4'\n",
    "\tclip1 = VideoFileClip(video_name+\".mp4\")#.subclip(0,5)\n",
    "\twhite_clip = clip1.fl_image(process_frame)\n",
    "\twhite_clip.write_videofile(white_output, audio=False)\n"
   ]
  },
  {
   "cell_type": "code",
   "execution_count": null,
   "metadata": {
    "collapsed": true
   },
   "outputs": [],
   "source": []
  }
 ],
 "metadata": {
  "kernelspec": {
   "display_name": "Python 3",
   "language": "python",
   "name": "python3"
  },
  "language_info": {
   "codemirror_mode": {
    "name": "ipython",
    "version": 3
   },
   "file_extension": ".py",
   "mimetype": "text/x-python",
   "name": "python",
   "nbconvert_exporter": "python",
   "pygments_lexer": "ipython3",
   "version": "3.5.4"
  },
  "widgets": {
   "state": {},
   "version": "1.1.2"
  }
 },
 "nbformat": 4,
 "nbformat_minor": 2
}
