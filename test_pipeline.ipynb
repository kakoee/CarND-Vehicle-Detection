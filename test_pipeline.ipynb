{
 "cells": [
  {
   "cell_type": "code",
   "execution_count": 1,
   "metadata": {
    "scrolled": false
   },
   "outputs": [
    {
     "name": "stdout",
     "output_type": "stream",
     "text": [
      "png 0.25098 0.564706\n",
      "png_cv2 0.0243902 155.0\n",
      "jpg 0 255\n",
      "jpg_cv2 0 255\n",
      "8792 8968\n",
      "Using: 9 orientations 8 pixels per cell and 2 cells per block\n",
      "Feature vector length: 6108\n",
      "17.58 Seconds to train SVC...\n",
      "Test Accuracy of SVC =  0.9803\n"
     ]
    },
    {
     "ename": "TypeError",
     "evalue": "process_frame() missing 1 required positional argument: 'cspace'",
     "output_type": "error",
     "traceback": [
      "\u001b[0;31m---------------------------------------------------------------------------\u001b[0m",
      "\u001b[0;31mTypeError\u001b[0m                                 Traceback (most recent call last)",
      "\u001b[0;32m~/Udacity/Self_driving/codes/CarND-Vehicle-Detection/CarND_Vehicle_Detection.py\u001b[0m in \u001b[0;36m<module>\u001b[0;34m()\u001b[0m\n\u001b[1;32m    141\u001b[0m \u001b[0mimage\u001b[0m \u001b[0;34m=\u001b[0m \u001b[0mimage\u001b[0m\u001b[0;34m.\u001b[0m\u001b[0mastype\u001b[0m\u001b[0;34m(\u001b[0m\u001b[0mnp\u001b[0m\u001b[0;34m.\u001b[0m\u001b[0mfloat32\u001b[0m\u001b[0;34m)\u001b[0m\u001b[0;34m/\u001b[0m\u001b[0;36m255\u001b[0m\u001b[0;34m\u001b[0m\u001b[0m\n\u001b[1;32m    142\u001b[0m \u001b[0;34m\u001b[0m\u001b[0m\n\u001b[0;32m--> 143\u001b[0;31m \u001b[0mres_image\u001b[0m\u001b[0;34m=\u001b[0m \u001b[0mprocess_frame\u001b[0m\u001b[0;34m(\u001b[0m\u001b[0mimage\u001b[0m\u001b[0;34m)\u001b[0m\u001b[0;34m\u001b[0m\u001b[0m\n\u001b[0m\u001b[1;32m    144\u001b[0m \u001b[0;34m\u001b[0m\u001b[0m\n\u001b[1;32m    145\u001b[0m \u001b[0;34m\u001b[0m\u001b[0m\n",
      "\u001b[0;31mTypeError\u001b[0m: process_frame() missing 1 required positional argument: 'cspace'"
     ]
    }
   ],
   "source": [
    "run CarND_Vehicle_Detection.py"
   ]
  },
  {
   "cell_type": "code",
   "execution_count": 3,
   "metadata": {},
   "outputs": [
    {
     "data": {
      "text/plain": [
       "<matplotlib.image.AxesImage at 0x7f6b5a1b1320>"
      ]
     },
     "execution_count": 3,
     "metadata": {},
     "output_type": "execute_result"
    },
    {
     "data": {
      "image/png": "[encoded data removed]",
      "text/plain": [
       "<matplotlib.figure.Figure at 0x7f6b5a290dd8>"
      ]
     },
     "metadata": {},
     "output_type": "display_data"
    }
   ],
   "source": [
    " %matplotlib inline\n",
    "def process_frame(myimg,cspace):\n",
    "\n",
    "    if(cspace in {'RGB','YCrCb'}):\n",
    "        myimg=myimg.astype(np.float32)/255\n",
    "\n",
    "    draw_image = np.copy(myimg)\n",
    "    windows = slide_window(myimg, x_start_stop=[None, None], y_start_stop=y_start_stop, \n",
    "                    xy_window=(96, 96), xy_overlap=(0.5, 0.5))\n",
    "\n",
    "    hot_windows = search_windows(myimg, windows, svc, X_scaler, color_space=cspace, \n",
    "                        spatial_size=spatial_size, hist_bins=hist_bins, \n",
    "                        orient=orient, pix_per_cell=pix_per_cell, \n",
    "                        cell_per_block=cell_per_block, \n",
    "                        hog_channel=hog_channel, spatial_feat=spatial_feat, \n",
    "                        hist_feat=hist_feat, hog_feat=hog_feat)                       \n",
    "\n",
    "    window_img = draw_boxes(draw_image, hot_windows, color=(0, 0, 255), thick=6)                    \n",
    "    return window_img\n",
    "\n",
    "\n",
    "image = mpimg.imread('test_images/test6.jpg')\n",
    "\n",
    "\n",
    "\n",
    "image = image.astype(np.float32)/255\n",
    "\n",
    "res_image= process_frame(image,color_space)                  \n",
    "\n",
    "plt.imshow(res_image)"
   ]
  },
  {
   "cell_type": "code",
   "execution_count": null,
   "metadata": {},
   "outputs": [],
   "source": [
    "\n",
    "x_png=mpimg.imread(\"./training/non-vehicles/GTI/image2.png\")\n",
    "print(\"png\",np.min(x_png),np.max(x_png))\n",
    "hsv_png = cv2.cvtColor(x_png, cv2.COLOR_RGB2LUV)\n",
    "print(\"png_cv2\",np.min(hsv_png),np.max(hsv_png))\n",
    "\n",
    "jpg = mpimg.imread('./test_images/test6.jpg')\n",
    "print(\"jpg\",np.min(jpg),np.max(jpg))\n",
    "hsv_jpg = cv2.cvtColor(jpg, cv2.COLOR_RGB2HSV)\n",
    "print(\"jpg_cv2\",np.min(hsv_jpg),np.max(hsv_jpg))\n",
    "\n"
   ]
  },
  {
   "cell_type": "code",
   "execution_count": null,
   "metadata": {},
   "outputs": [],
   "source": []
  }
 ],
 "metadata": {
  "kernelspec": {
   "display_name": "Python 3",
   "language": "python",
   "name": "python3"
  },
  "language_info": {
   "codemirror_mode": {
    "name": "ipython",
    "version": 3
   },
   "file_extension": ".py",
   "mimetype": "text/x-python",
   "name": "python",
   "nbconvert_exporter": "python",
   "pygments_lexer": "ipython3",
   "version": "3.5.2"
  },
  "widgets": {
   "state": {},
   "version": "1.1.2"
  }
 },
 "nbformat": 4,
 "nbformat_minor": 2
}
