{
 "cells": [
  {
   "cell_type": "code",
   "execution_count": 7,
   "metadata": {
    "scrolled": true
   },
   "outputs": [
    {
     "name": "stdout",
     "output_type": "stream",
     "text": [
      "png 0.25098 0.564706\n",
      "png_cv2 0.0243902 155.0\n",
      "jpg 0 255\n",
      "jpg_cv2 0 255\n",
      "8792 8968\n",
      "Using: 9 orientations 8 pixels per cell and 2 cells per block\n",
      "Feature vector length: 6108\n",
      "38.94 Seconds to train SVC...\n",
      "Test Accuracy of SVC =  0.9575\n"
     ]
    },
    {
     "data": {
      "text/plain": [
       "<matplotlib.figure.Figure at 0x15aff439550>"
      ]
     },
     "metadata": {},
     "output_type": "display_data"
    }
   ],
   "source": [
    "run CarND_Vehicle_Detection.py"
   ]
  },
  {
   "cell_type": "code",
   "execution_count": 9,
   "metadata": {},
   "outputs": [
    {
     "data": {
      "text/plain": [
       "<matplotlib.image.AxesImage at 0x15ae4ac0c18>"
      ]
     },
     "execution_count": 9,
     "metadata": {},
     "output_type": "execute_result"
    },
    {
     "data": {
      "image/png": "[encoded data removed]",
      "text/plain": [
       "<matplotlib.figure.Figure at 0x15aff3ae630>"
      ]
     },
     "metadata": {},
     "output_type": "display_data"
    }
   ],
   "source": [
    " %matplotlib inline\n",
    "y_start_stop = [300, 660]\n",
    "def process_frame(myimg,cspace):\n",
    "\n",
    "    \n",
    "    if(cspace in {'RGB','YCrCb'}):\n",
    "        myimg1=myimg.astype(np.float32)/255\n",
    "    else:\n",
    "        myimg1=np.copy(myimg)\n",
    "        \n",
    "    draw_image = np.copy(myimg1)\n",
    "    windows = slide_window(myimg1, x_start_stop=[None, None], y_start_stop=y_start_stop, \n",
    "                    xy_window=(96, 96), xy_overlap=(0.5, 0.5))\n",
    "\n",
    "    hot_windows = search_windows(myimg1, windows, svc, X_scaler, color_space=cspace, \n",
    "                        spatial_size=spatial_size, hist_bins=hist_bins, \n",
    "                        orient=orient, pix_per_cell=pix_per_cell, \n",
    "                        cell_per_block=cell_per_block, \n",
    "                        hog_channel=hog_channel, spatial_feat=spatial_feat, \n",
    "                        hist_feat=hist_feat, hog_feat=hog_feat)                       \n",
    "\n",
    "    window_img = draw_boxes(draw_image, hot_windows, color=(0, 0, 255), thick=6)                    \n",
    "    return window_img\n",
    "\n",
    "\n",
    "image = mpimg.imread('test_images/test5.jpg')\n",
    "\n",
    "\n",
    "\n",
    "image = image.astype(np.float32)/255\n",
    "\n",
    "res_image= process_frame(image,color_space)                  \n",
    "\n",
    "plt.imshow(res_image)"
   ]
  },
  {
   "cell_type": "code",
   "execution_count": 3,
   "metadata": {},
   "outputs": [
    {
     "name": "stdout",
     "output_type": "stream",
     "text": [
      "png 0.25098 0.564706\n",
      "png_cv2 -8.75044 58.8321\n",
      "jpg 0 255\n",
      "jpg_cv2 0 255\n"
     ]
    }
   ],
   "source": [
    "\n",
    "x_png=mpimg.imread(\"./training/non-vehicles/GTI/image2.png\")\n",
    "print(\"png\",np.min(x_png),np.max(x_png))\n",
    "hsv_png = cv2.cvtColor(x_png, cv2.COLOR_RGB2LUV)\n",
    "print(\"png_cv2\",np.min(hsv_png),np.max(hsv_png))\n",
    "\n",
    "jpg = mpimg.imread('./test_images/test6.jpg')\n",
    "print(\"jpg\",np.min(jpg),np.max(jpg))\n",
    "hsv_jpg = cv2.cvtColor(jpg, cv2.COLOR_RGB2HLS)\n",
    "print(\"jpg_cv2\",np.min(hsv_jpg),np.max(hsv_jpg))\n",
    "\n"
   ]
  },
  {
   "cell_type": "code",
   "execution_count": null,
   "metadata": {
    "collapsed": true
   },
   "outputs": [],
   "source": []
  }
 ],
 "metadata": {
  "kernelspec": {
   "display_name": "Python 3",
   "language": "python",
   "name": "python3"
  },
  "language_info": {
   "codemirror_mode": {
    "name": "ipython",
    "version": 3
   },
   "file_extension": ".py",
   "mimetype": "text/x-python",
   "name": "python",
   "nbconvert_exporter": "python",
   "pygments_lexer": "ipython3",
   "version": "3.5.4"
  },
  "widgets": {
   "state": {},
   "version": "1.1.2"
  }
 },
 "nbformat": 4,
 "nbformat_minor": 2
}
